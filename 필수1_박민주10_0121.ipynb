{
 "cells": [
  {
   "cell_type": "code",
   "execution_count": 1,
   "id": "5140491f",
   "metadata": {},
   "outputs": [],
   "source": [
    "import pandas as pd\n",
    "import numpy as np"
   ]
  },
  {
   "cell_type": "code",
   "execution_count": 3,
   "id": "107633f7",
   "metadata": {},
   "outputs": [
    {
     "data": {
      "text/html": [
       "<div>\n",
       "<style scoped>\n",
       "    .dataframe tbody tr th:only-of-type {\n",
       "        vertical-align: middle;\n",
       "    }\n",
       "\n",
       "    .dataframe tbody tr th {\n",
       "        vertical-align: top;\n",
       "    }\n",
       "\n",
       "    .dataframe thead th {\n",
       "        text-align: right;\n",
       "    }\n",
       "</style>\n",
       "<table border=\"1\" class=\"dataframe\">\n",
       "  <thead>\n",
       "    <tr style=\"text-align: right;\">\n",
       "      <th></th>\n",
       "      <th>Unnamed: 0</th>\n",
       "      <th>target</th>\n",
       "      <th>text</th>\n",
       "    </tr>\n",
       "  </thead>\n",
       "  <tbody>\n",
       "    <tr>\n",
       "      <th>0</th>\n",
       "      <td>0</td>\n",
       "      <td>ham</td>\n",
       "      <td>Go until jurong point, crazy.. Available only ...</td>\n",
       "    </tr>\n",
       "    <tr>\n",
       "      <th>1</th>\n",
       "      <td>1</td>\n",
       "      <td>ham</td>\n",
       "      <td>Ok lar... Joking wif u oni...</td>\n",
       "    </tr>\n",
       "    <tr>\n",
       "      <th>2</th>\n",
       "      <td>2</td>\n",
       "      <td>spam</td>\n",
       "      <td>Free entry in 2 a wkly comp to win FA Cup fina...</td>\n",
       "    </tr>\n",
       "    <tr>\n",
       "      <th>3</th>\n",
       "      <td>3</td>\n",
       "      <td>ham</td>\n",
       "      <td>U dun say so early hor... U c already then say...</td>\n",
       "    </tr>\n",
       "    <tr>\n",
       "      <th>4</th>\n",
       "      <td>4</td>\n",
       "      <td>ham</td>\n",
       "      <td>Nah I don't think he goes to usf, he lives aro...</td>\n",
       "    </tr>\n",
       "    <tr>\n",
       "      <th>...</th>\n",
       "      <td>...</td>\n",
       "      <td>...</td>\n",
       "      <td>...</td>\n",
       "    </tr>\n",
       "    <tr>\n",
       "      <th>5569</th>\n",
       "      <td>5569</td>\n",
       "      <td>spam</td>\n",
       "      <td>This is the 2nd time we have tried 2 contact u...</td>\n",
       "    </tr>\n",
       "    <tr>\n",
       "      <th>5570</th>\n",
       "      <td>5570</td>\n",
       "      <td>ham</td>\n",
       "      <td>Will ü b going to esplanade fr home?</td>\n",
       "    </tr>\n",
       "    <tr>\n",
       "      <th>5571</th>\n",
       "      <td>5571</td>\n",
       "      <td>ham</td>\n",
       "      <td>Pity, * was in mood for that. So...any other s...</td>\n",
       "    </tr>\n",
       "    <tr>\n",
       "      <th>5572</th>\n",
       "      <td>5572</td>\n",
       "      <td>ham</td>\n",
       "      <td>The guy did some bitching but I acted like i'd...</td>\n",
       "    </tr>\n",
       "    <tr>\n",
       "      <th>5573</th>\n",
       "      <td>5573</td>\n",
       "      <td>ham</td>\n",
       "      <td>Rofl. Its true to its name</td>\n",
       "    </tr>\n",
       "  </tbody>\n",
       "</table>\n",
       "<p>5574 rows × 3 columns</p>\n",
       "</div>"
      ],
      "text/plain": [
       "      Unnamed: 0 target                                               text\n",
       "0              0    ham  Go until jurong point, crazy.. Available only ...\n",
       "1              1    ham                      Ok lar... Joking wif u oni...\n",
       "2              2   spam  Free entry in 2 a wkly comp to win FA Cup fina...\n",
       "3              3    ham  U dun say so early hor... U c already then say...\n",
       "4              4    ham  Nah I don't think he goes to usf, he lives aro...\n",
       "...          ...    ...                                                ...\n",
       "5569        5569   spam  This is the 2nd time we have tried 2 contact u...\n",
       "5570        5570    ham               Will ü b going to esplanade fr home?\n",
       "5571        5571    ham  Pity, * was in mood for that. So...any other s...\n",
       "5572        5572    ham  The guy did some bitching but I acted like i'd...\n",
       "5573        5573    ham                         Rofl. Its true to its name\n",
       "\n",
       "[5574 rows x 3 columns]"
      ]
     },
     "execution_count": 3,
     "metadata": {},
     "output_type": "execute_result"
    }
   ],
   "source": [
    "df = pd.read_csv('spam (1).csv')\n",
    "df"
   ]
  },
  {
   "cell_type": "code",
   "execution_count": 5,
   "id": "2e7f0990",
   "metadata": {},
   "outputs": [
    {
     "data": {
      "text/plain": [
       "0       go until jurong point, crazy.. available only ...\n",
       "1                           ok lar... joking wif u oni...\n",
       "2       free entry in 2 a wkly comp to win fa cup fina...\n",
       "3       u dun say so early hor... u c already then say...\n",
       "4       nah i don't think he goes to usf, he lives aro...\n",
       "                              ...                        \n",
       "5569    this is the 2nd time we have tried 2 contact u...\n",
       "5570                 will ü b going to esplanade fr home?\n",
       "5571    pity, * was in mood for that. so...any other s...\n",
       "5572    the guy did some bitching but i acted like i'd...\n",
       "5573                           rofl. its true to its name\n",
       "Name: text, Length: 5574, dtype: object"
      ]
     },
     "execution_count": 5,
     "metadata": {},
     "output_type": "execute_result"
    }
   ],
   "source": [
    "df_lower = df['text'].str.lower()\n",
    "df_lower"
   ]
  },
  {
   "cell_type": "code",
   "execution_count": 6,
   "id": "850eb1f0",
   "metadata": {},
   "outputs": [
    {
     "data": {
      "text/plain": [
       "0       GO UNTIL JURONG POINT, CRAZY.. AVAILABLE ONLY ...\n",
       "1                           OK LAR... JOKING WIF U ONI...\n",
       "2       FREE ENTRY IN 2 A WKLY COMP TO WIN FA CUP FINA...\n",
       "3       U DUN SAY SO EARLY HOR... U C ALREADY THEN SAY...\n",
       "4       NAH I DON'T THINK HE GOES TO USF, HE LIVES ARO...\n",
       "                              ...                        \n",
       "5569    THIS IS THE 2ND TIME WE HAVE TRIED 2 CONTACT U...\n",
       "5570                 WILL Ü B GOING TO ESPLANADE FR HOME?\n",
       "5571    PITY, * WAS IN MOOD FOR THAT. SO...ANY OTHER S...\n",
       "5572    THE GUY DID SOME BITCHING BUT I ACTED LIKE I'D...\n",
       "5573                           ROFL. ITS TRUE TO ITS NAME\n",
       "Name: text, Length: 5574, dtype: object"
      ]
     },
     "execution_count": 6,
     "metadata": {},
     "output_type": "execute_result"
    }
   ],
   "source": [
    "df_upper = df['text'].str.upper()\n",
    "df_upper"
   ]
  },
  {
   "cell_type": "code",
   "execution_count": 7,
   "id": "92fa7667",
   "metadata": {},
   "outputs": [
    {
     "data": {
      "text/plain": [
       "0       Go Until Jurong Point, Crazy.. Available Only ...\n",
       "1                           Ok Lar... Joking Wif U Oni...\n",
       "2       Free Entry In 2 A Wkly Comp To Win Fa Cup Fina...\n",
       "3       U Dun Say So Early Hor... U C Already Then Say...\n",
       "4       Nah I Don'T Think He Goes To Usf, He Lives Aro...\n",
       "                              ...                        \n",
       "5569    This Is The 2Nd Time We Have Tried 2 Contact U...\n",
       "5570                 Will Ü B Going To Esplanade Fr Home?\n",
       "5571    Pity, * Was In Mood For That. So...Any Other S...\n",
       "5572    The Guy Did Some Bitching But I Acted Like I'D...\n",
       "5573                           Rofl. Its True To Its Name\n",
       "Name: text, Length: 5574, dtype: object"
      ]
     },
     "execution_count": 7,
     "metadata": {},
     "output_type": "execute_result"
    }
   ],
   "source": [
    "df_title = df['text'].str.title()\n",
    "df_title"
   ]
  },
  {
   "cell_type": "code",
   "execution_count": 8,
   "id": "ec519ef8",
   "metadata": {},
   "outputs": [
    {
     "data": {
      "text/plain": [
       "0       gO UNTIL JURONG POINT, CRAZY.. aVAILABLE ONLY ...\n",
       "1                           oK LAR... jOKING WIF U ONI...\n",
       "2       fREE ENTRY IN 2 A WKLY COMP TO WIN fa cUP FINA...\n",
       "3       u DUN SAY SO EARLY HOR... u C ALREADY THEN SAY...\n",
       "4       nAH i DON'T THINK HE GOES TO USF, HE LIVES ARO...\n",
       "                              ...                        \n",
       "5569    tHIS IS THE 2ND TIME WE HAVE TRIED 2 CONTACT U...\n",
       "5570                 wILL Ü B GOING TO ESPLANADE FR HOME?\n",
       "5571    pITY, * WAS IN MOOD FOR THAT. sO...ANY OTHER S...\n",
       "5572    tHE GUY DID SOME BITCHING BUT i ACTED LIKE I'D...\n",
       "5573                           rOFL. iTS TRUE TO ITS NAME\n",
       "Name: text, Length: 5574, dtype: object"
      ]
     },
     "execution_count": 8,
     "metadata": {},
     "output_type": "execute_result"
    }
   ],
   "source": [
    "df_swapcase = df['text'].str.swapcase()\n",
    "df_swapcase"
   ]
  }
 ],
 "metadata": {
  "kernelspec": {
   "display_name": "Python 3 (ipykernel)",
   "language": "python",
   "name": "python3"
  },
  "language_info": {
   "codemirror_mode": {
    "name": "ipython",
    "version": 3
   },
   "file_extension": ".py",
   "mimetype": "text/x-python",
   "name": "python",
   "nbconvert_exporter": "python",
   "pygments_lexer": "ipython3",
   "version": "3.8.18"
  }
 },
 "nbformat": 4,
 "nbformat_minor": 5
}
