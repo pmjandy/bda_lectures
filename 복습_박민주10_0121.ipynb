{
 "cells": [
  {
   "cell_type": "markdown",
   "id": "91bbaec7",
   "metadata": {},
   "source": [
    "# 정규표현식\n",
    "- 문자열을 처리할 때, 다양한 요구조건에 맞는 패턴을 만들어 처리하는 방법\n",
    "- 이메일 찾기, 아이디/비밀번호 찾기, 회원가입 아이디 패턴 찾기 등"
   ]
  },
  {
   "cell_type": "code",
   "execution_count": 1,
   "id": "14327ae1",
   "metadata": {},
   "outputs": [],
   "source": [
    "import re"
   ]
  },
  {
   "cell_type": "code",
   "execution_count": 5,
   "id": "59371594",
   "metadata": {},
   "outputs": [
    {
     "data": {
      "text/plain": [
       "<re.Match object; span=(0, 5), match='Hello'>"
      ]
     },
     "execution_count": 5,
     "metadata": {},
     "output_type": "execute_result"
    }
   ],
   "source": [
    "# 패턴찾기\n",
    "re.match('Hello', 'Hello, world!')"
   ]
  },
  {
   "cell_type": "code",
   "execution_count": 6,
   "id": "c082d7d0",
   "metadata": {},
   "outputs": [
    {
     "data": {
      "text/plain": [
       "<re.Match object; span=(0, 5), match='Hello'>"
      ]
     },
     "execution_count": 6,
     "metadata": {},
     "output_type": "execute_result"
    }
   ],
   "source": [
    "re.search('Hello', 'Hello, world!')"
   ]
  },
  {
   "cell_type": "code",
   "execution_count": 7,
   "id": "bf715d04",
   "metadata": {},
   "outputs": [],
   "source": [
    "re.match('Hello', 'world! Hello')\n",
    "# 위치가 바뀌면 패턴 찾지못함 -> 결과x"
   ]
  },
  {
   "cell_type": "code",
   "execution_count": 8,
   "id": "75fe9148",
   "metadata": {},
   "outputs": [
    {
     "data": {
      "text/plain": [
       "<re.Match object; span=(7, 12), match='Hello'>"
      ]
     },
     "execution_count": 8,
     "metadata": {},
     "output_type": "execute_result"
    }
   ],
   "source": [
    "re.search('Hello', 'world! Hello')\n",
    "# search는 전체 문자열에서 패턴을 확인"
   ]
  },
  {
   "cell_type": "markdown",
   "id": "69f0cf70",
   "metadata": {},
   "source": [
    "- 숫자 [0-9]\n",
    "- 영어소문자 [a-z]\n",
    "- 영어대문자 [A-Z]\n",
    "- 한글 [가-힣]\n",
    "- 자음/모음 [ㄱ-ㅎ]/[ㅏ-ㅣ]\n",
    "- ^not : ~제외하고 전부 다\n",
    "- +, * : 0개 이상 또는 1개 이상의 패턴을 모두"
   ]
  },
  {
   "cell_type": "code",
   "execution_count": 9,
   "id": "8232d1a0",
   "metadata": {},
   "outputs": [
    {
     "data": {
      "text/plain": [
       "<re.Match object; span=(0, 1), match='1'>"
      ]
     },
     "execution_count": 9,
     "metadata": {},
     "output_type": "execute_result"
    }
   ],
   "source": [
    "# 숫자 패턴 찾기\n",
    "re.search('[0-9]','1231243134123,asdfasdf!@3121')"
   ]
  },
  {
   "cell_type": "code",
   "execution_count": 10,
   "id": "9fd4e94f",
   "metadata": {},
   "outputs": [
    {
     "data": {
      "text/plain": [
       "<re.Match object; span=(6, 9), match='홍길동'>"
      ]
     },
     "execution_count": 10,
     "metadata": {},
     "output_type": "execute_result"
    }
   ],
   "source": [
    "re.search('[가-힣]+','12345/홍길동/asdfa@naver.com/010-111-1111')"
   ]
  },
  {
   "cell_type": "markdown",
   "id": "0d07109c",
   "metadata": {},
   "source": [
    "- {숫자} : 해당 패턴의 문자 개수 설정"
   ]
  },
  {
   "cell_type": "code",
   "execution_count": 11,
   "id": "6163a62f",
   "metadata": {},
   "outputs": [
    {
     "data": {
      "text/plain": [
       "<re.Match object; span=(0, 13), match='010-1234-5678'>"
      ]
     },
     "execution_count": 11,
     "metadata": {},
     "output_type": "execute_result"
    }
   ],
   "source": [
    "# 휴대전화번호 패턴 찾기\n",
    "re.match('[0-9]{3}-[0-9]{4}-[0-9]{4}','010-1234-5678')"
   ]
  },
  {
   "cell_type": "code",
   "execution_count": 12,
   "id": "8d99b8cd",
   "metadata": {},
   "outputs": [
    {
     "data": {
      "text/plain": [
       "<re.Match object; span=(0, 9), match='12345/홍길동'>"
      ]
     },
     "execution_count": 12,
     "metadata": {},
     "output_type": "execute_result"
    }
   ],
   "source": [
    "# 정규표현식 합쳐서 사용 가능\n",
    "re.search('[가-힣a-zA-Z0-9]+/[가-힣a-zA-Z0-9]+','12345/홍길동/asdfa@naver.com/010-111-1111')"
   ]
  },
  {
   "cell_type": "markdown",
   "id": "0454fbc8",
   "metadata": {},
   "source": [
    "- \\d 모든 숫자\n",
    "- \\D 모든 숫자 제외\n",
    "- \\w 영문, 대소문자, 숫자, 밑줄 문자 포함\n",
    "- \\W 영문, 대소문자, 숫자, 밑줄 문자 제외한 나머지"
   ]
  },
  {
   "cell_type": "code",
   "execution_count": 14,
   "id": "07ccdd4a",
   "metadata": {},
   "outputs": [
    {
     "data": {
      "text/plain": [
       "<re.Match object; span=(0, 13), match='1231243134123'>"
      ]
     },
     "execution_count": 14,
     "metadata": {},
     "output_type": "execute_result"
    }
   ],
   "source": [
    "re.search('\\d+','1231243134123,asdfasdf!@3121')"
   ]
  },
  {
   "cell_type": "markdown",
   "id": "ae69b7b3",
   "metadata": {},
   "source": [
    "## 정규표현식 그룹으로 사용 가능"
   ]
  },
  {
   "cell_type": "code",
   "execution_count": 15,
   "id": "380d0291",
   "metadata": {},
   "outputs": [],
   "source": [
    "ab = re.match('([0-9]+) ([a-z]+)','1234 abc')\n",
    "# ab : 두 그룹으로 설정"
   ]
  },
  {
   "cell_type": "code",
   "execution_count": 16,
   "id": "295399d0",
   "metadata": {},
   "outputs": [
    {
     "data": {
      "text/plain": [
       "'1234'"
      ]
     },
     "execution_count": 16,
     "metadata": {},
     "output_type": "execute_result"
    }
   ],
   "source": [
    "ab.group(1)"
   ]
  },
  {
   "cell_type": "code",
   "execution_count": 17,
   "id": "9fe7ac0e",
   "metadata": {},
   "outputs": [
    {
     "data": {
      "text/plain": [
       "'abc'"
      ]
     },
     "execution_count": 17,
     "metadata": {},
     "output_type": "execute_result"
    }
   ],
   "source": [
    "ab.group(2)"
   ]
  },
  {
   "cell_type": "code",
   "execution_count": 18,
   "id": "e3b022ec",
   "metadata": {},
   "outputs": [
    {
     "data": {
      "text/plain": [
       "'1234 abc'"
      ]
     },
     "execution_count": 18,
     "metadata": {},
     "output_type": "execute_result"
    }
   ],
   "source": [
    "ab.group(0)"
   ]
  },
  {
   "cell_type": "markdown",
   "id": "9caa0f5e",
   "metadata": {},
   "source": [
    "## 실제 데이터를 활용한 정규표현식 및 텍스트 분석"
   ]
  },
  {
   "cell_type": "code",
   "execution_count": 1,
   "id": "665f3c15",
   "metadata": {},
   "outputs": [],
   "source": [
    "import pandas as pd\n",
    "import numpy as np"
   ]
  },
  {
   "cell_type": "code",
   "execution_count": 2,
   "id": "554074f1",
   "metadata": {},
   "outputs": [
    {
     "data": {
      "text/html": [
       "<div>\n",
       "<style scoped>\n",
       "    .dataframe tbody tr th:only-of-type {\n",
       "        vertical-align: middle;\n",
       "    }\n",
       "\n",
       "    .dataframe tbody tr th {\n",
       "        vertical-align: top;\n",
       "    }\n",
       "\n",
       "    .dataframe thead th {\n",
       "        text-align: right;\n",
       "    }\n",
       "</style>\n",
       "<table border=\"1\" class=\"dataframe\">\n",
       "  <thead>\n",
       "    <tr style=\"text-align: right;\">\n",
       "      <th></th>\n",
       "      <th>Unnamed: 0</th>\n",
       "      <th>id</th>\n",
       "      <th>document</th>\n",
       "      <th>label</th>\n",
       "    </tr>\n",
       "  </thead>\n",
       "  <tbody>\n",
       "    <tr>\n",
       "      <th>0</th>\n",
       "      <td>0</td>\n",
       "      <td>9976970</td>\n",
       "      <td>아 더빙.. 진짜 짜증나네요 목소리</td>\n",
       "      <td>0</td>\n",
       "    </tr>\n",
       "    <tr>\n",
       "      <th>1</th>\n",
       "      <td>1</td>\n",
       "      <td>3819312</td>\n",
       "      <td>흠...포스터보고 초딩영화줄....오버연기조차 가볍지 않구나</td>\n",
       "      <td>1</td>\n",
       "    </tr>\n",
       "    <tr>\n",
       "      <th>2</th>\n",
       "      <td>2</td>\n",
       "      <td>10265843</td>\n",
       "      <td>너무재밓었다그래서보는것을추천한다</td>\n",
       "      <td>0</td>\n",
       "    </tr>\n",
       "    <tr>\n",
       "      <th>3</th>\n",
       "      <td>3</td>\n",
       "      <td>9045019</td>\n",
       "      <td>교도소 이야기구먼 ..솔직히 재미는 없다..평점 조정</td>\n",
       "      <td>0</td>\n",
       "    </tr>\n",
       "    <tr>\n",
       "      <th>4</th>\n",
       "      <td>4</td>\n",
       "      <td>6483659</td>\n",
       "      <td>사이몬페그의 익살스런 연기가 돋보였던 영화!스파이더맨에서 늙어보이기만 했던 커스틴 ...</td>\n",
       "      <td>1</td>\n",
       "    </tr>\n",
       "    <tr>\n",
       "      <th>...</th>\n",
       "      <td>...</td>\n",
       "      <td>...</td>\n",
       "      <td>...</td>\n",
       "      <td>...</td>\n",
       "    </tr>\n",
       "    <tr>\n",
       "      <th>149995</th>\n",
       "      <td>149995</td>\n",
       "      <td>6222902</td>\n",
       "      <td>인간이 문제지.. 소는 뭔죄인가..</td>\n",
       "      <td>0</td>\n",
       "    </tr>\n",
       "    <tr>\n",
       "      <th>149996</th>\n",
       "      <td>149996</td>\n",
       "      <td>8549745</td>\n",
       "      <td>평점이 너무 낮아서...</td>\n",
       "      <td>1</td>\n",
       "    </tr>\n",
       "    <tr>\n",
       "      <th>149997</th>\n",
       "      <td>149997</td>\n",
       "      <td>9311800</td>\n",
       "      <td>이게 뭐요? 한국인은 거들먹거리고 필리핀 혼혈은 착하다?</td>\n",
       "      <td>0</td>\n",
       "    </tr>\n",
       "    <tr>\n",
       "      <th>149998</th>\n",
       "      <td>149998</td>\n",
       "      <td>2376369</td>\n",
       "      <td>청춘 영화의 최고봉.방황과 우울했던 날들의 자화상</td>\n",
       "      <td>1</td>\n",
       "    </tr>\n",
       "    <tr>\n",
       "      <th>149999</th>\n",
       "      <td>149999</td>\n",
       "      <td>9619869</td>\n",
       "      <td>한국 영화 최초로 수간하는 내용이 담긴 영화</td>\n",
       "      <td>0</td>\n",
       "    </tr>\n",
       "  </tbody>\n",
       "</table>\n",
       "<p>150000 rows × 4 columns</p>\n",
       "</div>"
      ],
      "text/plain": [
       "        Unnamed: 0        id  \\\n",
       "0                0   9976970   \n",
       "1                1   3819312   \n",
       "2                2  10265843   \n",
       "3                3   9045019   \n",
       "4                4   6483659   \n",
       "...            ...       ...   \n",
       "149995      149995   6222902   \n",
       "149996      149996   8549745   \n",
       "149997      149997   9311800   \n",
       "149998      149998   2376369   \n",
       "149999      149999   9619869   \n",
       "\n",
       "                                                 document  label  \n",
       "0                                     아 더빙.. 진짜 짜증나네요 목소리      0  \n",
       "1                       흠...포스터보고 초딩영화줄....오버연기조차 가볍지 않구나      1  \n",
       "2                                       너무재밓었다그래서보는것을추천한다      0  \n",
       "3                           교도소 이야기구먼 ..솔직히 재미는 없다..평점 조정      0  \n",
       "4       사이몬페그의 익살스런 연기가 돋보였던 영화!스파이더맨에서 늙어보이기만 했던 커스틴 ...      1  \n",
       "...                                                   ...    ...  \n",
       "149995                                인간이 문제지.. 소는 뭔죄인가..      0  \n",
       "149996                                      평점이 너무 낮아서...      1  \n",
       "149997                    이게 뭐요? 한국인은 거들먹거리고 필리핀 혼혈은 착하다?      0  \n",
       "149998                        청춘 영화의 최고봉.방황과 우울했던 날들의 자화상      1  \n",
       "149999                           한국 영화 최초로 수간하는 내용이 담긴 영화      0  \n",
       "\n",
       "[150000 rows x 4 columns]"
      ]
     },
     "execution_count": 2,
     "metadata": {},
     "output_type": "execute_result"
    }
   ],
   "source": [
    "df = pd.read_csv('movie_rv.csv')\n",
    "df"
   ]
  },
  {
   "cell_type": "code",
   "execution_count": 3,
   "id": "16052356",
   "metadata": {},
   "outputs": [
    {
     "data": {
      "text/plain": [
       "0                                       아 더빙.. 진짜 짜증나네요 목소리\n",
       "1                         흠...포스터보고 초딩영화줄....오버연기조차 가볍지 않구나\n",
       "2                                         너무재밓었다그래서보는것을추천한다\n",
       "3                             교도소 이야기구먼 ..솔직히 재미는 없다..평점 조정\n",
       "4         사이몬페그의 익살스런 연기가 돋보였던 영화!스파이더맨에서 늙어보이기만 했던 커스틴 ...\n",
       "                                ...                        \n",
       "149995                                  인간이 문제지.. 소는 뭔죄인가..\n",
       "149996                                        평점이 너무 낮아서...\n",
       "149997                      이게 뭐요? 한국인은 거들먹거리고 필리핀 혼혈은 착하다?\n",
       "149998                          청춘 영화의 최고봉.방황과 우울했던 날들의 자화상\n",
       "149999                             한국 영화 최초로 수간하는 내용이 담긴 영화\n",
       "Name: document, Length: 150000, dtype: object"
      ]
     },
     "execution_count": 3,
     "metadata": {},
     "output_type": "execute_result"
    }
   ],
   "source": [
    "# stirp() : 공백제거 lstrip, rstrip \n",
    "df['document'].str.strip()"
   ]
  },
  {
   "cell_type": "markdown",
   "id": "95fa3573",
   "metadata": {},
   "source": [
    "- pad : 길이 맞출 떄\n",
    "df['document'].str.pad(width=30, side='left', fillchar='*')"
   ]
  },
  {
   "cell_type": "code",
   "execution_count": 4,
   "id": "bf0576d4",
   "metadata": {},
   "outputs": [
    {
     "data": {
      "text/plain": [
       "0                            /////아 더빙.. 진짜 짜증나네요 목소리//////\n",
       "1                         흠...포스터보고 초딩영화줄....오버연기조차 가볍지 않구나\n",
       "2                            //////너무재밓었다그래서보는것을추천한다///////\n",
       "3                            교도소 이야기구먼 ..솔직히 재미는 없다..평점 조정/\n",
       "4         사이몬페그의 익살스런 연기가 돋보였던 영화!스파이더맨에서 늙어보이기만 했던 커스틴 ...\n",
       "                                ...                        \n",
       "149995                       /////인간이 문제지.. 소는 뭔죄인가..//////\n",
       "149996                       ////////평점이 너무 낮아서.../////////\n",
       "149997                      이게 뭐요? 한국인은 거들먹거리고 필리핀 혼혈은 착하다?\n",
       "149998                       /청춘 영화의 최고봉.방황과 우울했던 날들의 자화상//\n",
       "149999                       ///한국 영화 최초로 수간하는 내용이 담긴 영화///\n",
       "Name: document, Length: 150000, dtype: object"
      ]
     },
     "execution_count": 4,
     "metadata": {},
     "output_type": "execute_result"
    }
   ],
   "source": [
    "df['document'].str.center(width=30, fillchar='/')\n",
    "# 가운데정렬\n",
    "# 공백 / 으로 채우기"
   ]
  },
  {
   "cell_type": "code",
   "execution_count": 5,
   "id": "533ebc43",
   "metadata": {},
   "outputs": [
    {
     "data": {
      "text/plain": [
       "0                            아 더빙.. 진짜 짜증나네요 목소리///////////\n",
       "1                         흠...포스터보고 초딩영화줄....오버연기조차 가볍지 않구나\n",
       "2                            너무재밓었다그래서보는것을추천한다/////////////\n",
       "3                            교도소 이야기구먼 ..솔직히 재미는 없다..평점 조정/\n",
       "4         사이몬페그의 익살스런 연기가 돋보였던 영화!스파이더맨에서 늙어보이기만 했던 커스틴 ...\n",
       "                                ...                        \n",
       "149995                       인간이 문제지.. 소는 뭔죄인가..///////////\n",
       "149996                       평점이 너무 낮아서.../////////////////\n",
       "149997                      이게 뭐요? 한국인은 거들먹거리고 필리핀 혼혈은 착하다?\n",
       "149998                       청춘 영화의 최고봉.방황과 우울했던 날들의 자화상///\n",
       "149999                       한국 영화 최초로 수간하는 내용이 담긴 영화//////\n",
       "Name: document, Length: 150000, dtype: object"
      ]
     },
     "execution_count": 5,
     "metadata": {},
     "output_type": "execute_result"
    }
   ],
   "source": [
    "df['document'].str.ljust(width=30, fillchar='/') \n",
    "# 오른쪽정렬"
   ]
  },
  {
   "cell_type": "code",
   "execution_count": 6,
   "id": "06a00b8b",
   "metadata": {},
   "outputs": [
    {
     "data": {
      "text/plain": [
       "0                            00000000000아 더빙.. 진짜 짜증나네요 목소리\n",
       "1                         흠...포스터보고 초딩영화줄....오버연기조차 가볍지 않구나\n",
       "2                            0000000000000너무재밓었다그래서보는것을추천한다\n",
       "3                            0교도소 이야기구먼 ..솔직히 재미는 없다..평점 조정\n",
       "4         사이몬페그의 익살스런 연기가 돋보였던 영화!스파이더맨에서 늙어보이기만 했던 커스틴 ...\n",
       "                                ...                        \n",
       "149995                       00000000000인간이 문제지.. 소는 뭔죄인가..\n",
       "149996                       00000000000000000평점이 너무 낮아서...\n",
       "149997                      이게 뭐요? 한국인은 거들먹거리고 필리핀 혼혈은 착하다?\n",
       "149998                       000청춘 영화의 최고봉.방황과 우울했던 날들의 자화상\n",
       "149999                       000000한국 영화 최초로 수간하는 내용이 담긴 영화\n",
       "Name: document, Length: 150000, dtype: object"
      ]
     },
     "execution_count": 6,
     "metadata": {},
     "output_type": "execute_result"
    }
   ],
   "source": [
    "df['document'].str.zfill(width=30)\n",
    "# zfill : 공백 0으로 채우기"
   ]
  },
  {
   "cell_type": "markdown",
   "id": "92a40df0",
   "metadata": {},
   "source": [
    "## split() : 문자열 나누기\n",
    "- expand = True : 여러 칼럼으로 나누기\n",
    "- expand = False : 1개의 칼럼으로 나누기\n",
    "- n : 구분자 개수"
   ]
  },
  {
   "cell_type": "code",
   "execution_count": 7,
   "id": "3a98f389",
   "metadata": {},
   "outputs": [],
   "source": [
    "df[['document_1','document_2']]=df['document'].str.split(' ', n=1, expand=True )"
   ]
  },
  {
   "cell_type": "markdown",
   "id": "5a61d0ca",
   "metadata": {},
   "source": [
    "## partition() : 좌측에 먼저 있던 구분자를 나누기"
   ]
  },
  {
   "cell_type": "code",
   "execution_count": 8,
   "id": "e20a446e",
   "metadata": {},
   "outputs": [],
   "source": [
    "df[['document_1n','document_2n','document_3n']]=df['document'].str.partition(sep=' ')"
   ]
  },
  {
   "cell_type": "code",
   "execution_count": 9,
   "id": "652e5f3e",
   "metadata": {},
   "outputs": [
    {
     "data": {
      "text/html": [
       "<div>\n",
       "<style scoped>\n",
       "    .dataframe tbody tr th:only-of-type {\n",
       "        vertical-align: middle;\n",
       "    }\n",
       "\n",
       "    .dataframe tbody tr th {\n",
       "        vertical-align: top;\n",
       "    }\n",
       "\n",
       "    .dataframe thead th {\n",
       "        text-align: right;\n",
       "    }\n",
       "</style>\n",
       "<table border=\"1\" class=\"dataframe\">\n",
       "  <thead>\n",
       "    <tr style=\"text-align: right;\">\n",
       "      <th></th>\n",
       "      <th>Unnamed: 0</th>\n",
       "      <th>id</th>\n",
       "      <th>document</th>\n",
       "      <th>label</th>\n",
       "      <th>document_1</th>\n",
       "      <th>document_2</th>\n",
       "      <th>document_1n</th>\n",
       "      <th>document_2n</th>\n",
       "      <th>document_3n</th>\n",
       "    </tr>\n",
       "  </thead>\n",
       "  <tbody>\n",
       "    <tr>\n",
       "      <th>0</th>\n",
       "      <td>0</td>\n",
       "      <td>9976970</td>\n",
       "      <td>아 더빙.. 진짜 짜증나네요 목소리</td>\n",
       "      <td>0</td>\n",
       "      <td>아</td>\n",
       "      <td>더빙.. 진짜 짜증나네요 목소리</td>\n",
       "      <td>아</td>\n",
       "      <td></td>\n",
       "      <td>더빙.. 진짜 짜증나네요 목소리</td>\n",
       "    </tr>\n",
       "    <tr>\n",
       "      <th>1</th>\n",
       "      <td>1</td>\n",
       "      <td>3819312</td>\n",
       "      <td>흠...포스터보고 초딩영화줄....오버연기조차 가볍지 않구나</td>\n",
       "      <td>1</td>\n",
       "      <td>흠...포스터보고</td>\n",
       "      <td>초딩영화줄....오버연기조차 가볍지 않구나</td>\n",
       "      <td>흠...포스터보고</td>\n",
       "      <td></td>\n",
       "      <td>초딩영화줄....오버연기조차 가볍지 않구나</td>\n",
       "    </tr>\n",
       "    <tr>\n",
       "      <th>2</th>\n",
       "      <td>2</td>\n",
       "      <td>10265843</td>\n",
       "      <td>너무재밓었다그래서보는것을추천한다</td>\n",
       "      <td>0</td>\n",
       "      <td>너무재밓었다그래서보는것을추천한다</td>\n",
       "      <td>None</td>\n",
       "      <td>너무재밓었다그래서보는것을추천한다</td>\n",
       "      <td></td>\n",
       "      <td></td>\n",
       "    </tr>\n",
       "    <tr>\n",
       "      <th>3</th>\n",
       "      <td>3</td>\n",
       "      <td>9045019</td>\n",
       "      <td>교도소 이야기구먼 ..솔직히 재미는 없다..평점 조정</td>\n",
       "      <td>0</td>\n",
       "      <td>교도소</td>\n",
       "      <td>이야기구먼 ..솔직히 재미는 없다..평점 조정</td>\n",
       "      <td>교도소</td>\n",
       "      <td></td>\n",
       "      <td>이야기구먼 ..솔직히 재미는 없다..평점 조정</td>\n",
       "    </tr>\n",
       "    <tr>\n",
       "      <th>4</th>\n",
       "      <td>4</td>\n",
       "      <td>6483659</td>\n",
       "      <td>사이몬페그의 익살스런 연기가 돋보였던 영화!스파이더맨에서 늙어보이기만 했던 커스틴 ...</td>\n",
       "      <td>1</td>\n",
       "      <td>사이몬페그의</td>\n",
       "      <td>익살스런 연기가 돋보였던 영화!스파이더맨에서 늙어보이기만 했던 커스틴 던스트가 너무...</td>\n",
       "      <td>사이몬페그의</td>\n",
       "      <td></td>\n",
       "      <td>익살스런 연기가 돋보였던 영화!스파이더맨에서 늙어보이기만 했던 커스틴 던스트가 너무...</td>\n",
       "    </tr>\n",
       "    <tr>\n",
       "      <th>...</th>\n",
       "      <td>...</td>\n",
       "      <td>...</td>\n",
       "      <td>...</td>\n",
       "      <td>...</td>\n",
       "      <td>...</td>\n",
       "      <td>...</td>\n",
       "      <td>...</td>\n",
       "      <td>...</td>\n",
       "      <td>...</td>\n",
       "    </tr>\n",
       "    <tr>\n",
       "      <th>149995</th>\n",
       "      <td>149995</td>\n",
       "      <td>6222902</td>\n",
       "      <td>인간이 문제지.. 소는 뭔죄인가..</td>\n",
       "      <td>0</td>\n",
       "      <td>인간이</td>\n",
       "      <td>문제지.. 소는 뭔죄인가..</td>\n",
       "      <td>인간이</td>\n",
       "      <td></td>\n",
       "      <td>문제지.. 소는 뭔죄인가..</td>\n",
       "    </tr>\n",
       "    <tr>\n",
       "      <th>149996</th>\n",
       "      <td>149996</td>\n",
       "      <td>8549745</td>\n",
       "      <td>평점이 너무 낮아서...</td>\n",
       "      <td>1</td>\n",
       "      <td>평점이</td>\n",
       "      <td>너무 낮아서...</td>\n",
       "      <td>평점이</td>\n",
       "      <td></td>\n",
       "      <td>너무 낮아서...</td>\n",
       "    </tr>\n",
       "    <tr>\n",
       "      <th>149997</th>\n",
       "      <td>149997</td>\n",
       "      <td>9311800</td>\n",
       "      <td>이게 뭐요? 한국인은 거들먹거리고 필리핀 혼혈은 착하다?</td>\n",
       "      <td>0</td>\n",
       "      <td>이게</td>\n",
       "      <td>뭐요? 한국인은 거들먹거리고 필리핀 혼혈은 착하다?</td>\n",
       "      <td>이게</td>\n",
       "      <td></td>\n",
       "      <td>뭐요? 한국인은 거들먹거리고 필리핀 혼혈은 착하다?</td>\n",
       "    </tr>\n",
       "    <tr>\n",
       "      <th>149998</th>\n",
       "      <td>149998</td>\n",
       "      <td>2376369</td>\n",
       "      <td>청춘 영화의 최고봉.방황과 우울했던 날들의 자화상</td>\n",
       "      <td>1</td>\n",
       "      <td>청춘</td>\n",
       "      <td>영화의 최고봉.방황과 우울했던 날들의 자화상</td>\n",
       "      <td>청춘</td>\n",
       "      <td></td>\n",
       "      <td>영화의 최고봉.방황과 우울했던 날들의 자화상</td>\n",
       "    </tr>\n",
       "    <tr>\n",
       "      <th>149999</th>\n",
       "      <td>149999</td>\n",
       "      <td>9619869</td>\n",
       "      <td>한국 영화 최초로 수간하는 내용이 담긴 영화</td>\n",
       "      <td>0</td>\n",
       "      <td>한국</td>\n",
       "      <td>영화 최초로 수간하는 내용이 담긴 영화</td>\n",
       "      <td>한국</td>\n",
       "      <td></td>\n",
       "      <td>영화 최초로 수간하는 내용이 담긴 영화</td>\n",
       "    </tr>\n",
       "  </tbody>\n",
       "</table>\n",
       "<p>150000 rows × 9 columns</p>\n",
       "</div>"
      ],
      "text/plain": [
       "        Unnamed: 0        id  \\\n",
       "0                0   9976970   \n",
       "1                1   3819312   \n",
       "2                2  10265843   \n",
       "3                3   9045019   \n",
       "4                4   6483659   \n",
       "...            ...       ...   \n",
       "149995      149995   6222902   \n",
       "149996      149996   8549745   \n",
       "149997      149997   9311800   \n",
       "149998      149998   2376369   \n",
       "149999      149999   9619869   \n",
       "\n",
       "                                                 document  label  \\\n",
       "0                                     아 더빙.. 진짜 짜증나네요 목소리      0   \n",
       "1                       흠...포스터보고 초딩영화줄....오버연기조차 가볍지 않구나      1   \n",
       "2                                       너무재밓었다그래서보는것을추천한다      0   \n",
       "3                           교도소 이야기구먼 ..솔직히 재미는 없다..평점 조정      0   \n",
       "4       사이몬페그의 익살스런 연기가 돋보였던 영화!스파이더맨에서 늙어보이기만 했던 커스틴 ...      1   \n",
       "...                                                   ...    ...   \n",
       "149995                                인간이 문제지.. 소는 뭔죄인가..      0   \n",
       "149996                                      평점이 너무 낮아서...      1   \n",
       "149997                    이게 뭐요? 한국인은 거들먹거리고 필리핀 혼혈은 착하다?      0   \n",
       "149998                        청춘 영화의 최고봉.방황과 우울했던 날들의 자화상      1   \n",
       "149999                           한국 영화 최초로 수간하는 내용이 담긴 영화      0   \n",
       "\n",
       "               document_1                                         document_2  \\\n",
       "0                       아                                  더빙.. 진짜 짜증나네요 목소리   \n",
       "1               흠...포스터보고                            초딩영화줄....오버연기조차 가볍지 않구나   \n",
       "2       너무재밓었다그래서보는것을추천한다                                               None   \n",
       "3                     교도소                          이야기구먼 ..솔직히 재미는 없다..평점 조정   \n",
       "4                  사이몬페그의  익살스런 연기가 돋보였던 영화!스파이더맨에서 늙어보이기만 했던 커스틴 던스트가 너무...   \n",
       "...                   ...                                                ...   \n",
       "149995                인간이                                    문제지.. 소는 뭔죄인가..   \n",
       "149996                평점이                                          너무 낮아서...   \n",
       "149997                 이게                       뭐요? 한국인은 거들먹거리고 필리핀 혼혈은 착하다?   \n",
       "149998                 청춘                           영화의 최고봉.방황과 우울했던 날들의 자화상   \n",
       "149999                 한국                              영화 최초로 수간하는 내용이 담긴 영화   \n",
       "\n",
       "              document_1n document_2n  \\\n",
       "0                       아               \n",
       "1               흠...포스터보고               \n",
       "2       너무재밓었다그래서보는것을추천한다               \n",
       "3                     교도소               \n",
       "4                  사이몬페그의               \n",
       "...                   ...         ...   \n",
       "149995                인간이               \n",
       "149996                평점이               \n",
       "149997                 이게               \n",
       "149998                 청춘               \n",
       "149999                 한국               \n",
       "\n",
       "                                              document_3n  \n",
       "0                                       더빙.. 진짜 짜증나네요 목소리  \n",
       "1                                 초딩영화줄....오버연기조차 가볍지 않구나  \n",
       "2                                                          \n",
       "3                               이야기구먼 ..솔직히 재미는 없다..평점 조정  \n",
       "4       익살스런 연기가 돋보였던 영화!스파이더맨에서 늙어보이기만 했던 커스틴 던스트가 너무...  \n",
       "...                                                   ...  \n",
       "149995                                    문제지.. 소는 뭔죄인가..  \n",
       "149996                                          너무 낮아서...  \n",
       "149997                       뭐요? 한국인은 거들먹거리고 필리핀 혼혈은 착하다?  \n",
       "149998                           영화의 최고봉.방황과 우울했던 날들의 자화상  \n",
       "149999                              영화 최초로 수간하는 내용이 담긴 영화  \n",
       "\n",
       "[150000 rows x 9 columns]"
      ]
     },
     "execution_count": 9,
     "metadata": {},
     "output_type": "execute_result"
    }
   ],
   "source": [
    "df"
   ]
  },
  {
   "cell_type": "markdown",
   "id": "3727bb24",
   "metadata": {},
   "source": [
    "## 영문 대소문자 바꾸기\n",
    "- lower : 소문자로 변경\n",
    "- upper : 대문자로 변경\n",
    "- capitalize : 앞문자만 대문자로 변경\n",
    "- title : 단위별 앞문자를 대문자로 변경\n",
    "- swapcase : 소문자는 대문자, 대문자는 소문자로 변경"
   ]
  },
  {
   "cell_type": "markdown",
   "id": "03c4376b",
   "metadata": {},
   "source": [
    "## replace"
   ]
  },
  {
   "cell_type": "code",
   "execution_count": 10,
   "id": "380c8a8f",
   "metadata": {},
   "outputs": [
    {
     "data": {
      "text/plain": [
       "0                                       아 더빙** 진짜 짜증나네요 목소리\n",
       "1                         흠***포스터보고 초딩영화줄****오버연기조차 가볍지 않구나\n",
       "2                                         너무재밓었다그래서보는것을추천한다\n",
       "3                             교도소 이야기구먼 **솔직히 재미는 없다**평점 조정\n",
       "4         사이몬페그의 익살스런 연기가 돋보였던 영화!스파이더맨에서 늙어보이기만 했던 커스틴 ...\n",
       "                                ...                        \n",
       "149995                                  인간이 문제지** 소는 뭔죄인가**\n",
       "149996                                        평점이 너무 낮아서***\n",
       "149997                      이게 뭐요? 한국인은 거들먹거리고 필리핀 혼혈은 착하다?\n",
       "149998                          청춘 영화의 최고봉*방황과 우울했던 날들의 자화상\n",
       "149999                             한국 영화 최초로 수간하는 내용이 담긴 영화\n",
       "Name: document, Length: 150000, dtype: object"
      ]
     },
     "execution_count": 10,
     "metadata": {},
     "output_type": "execute_result"
    }
   ],
   "source": [
    "# ,를 *로 변경\n",
    "df['document'].str.replace(pat='.', repl='*', regex=False)"
   ]
  },
  {
   "cell_type": "markdown",
   "id": "b537152f",
   "metadata": {},
   "source": [
    "## find\n",
    "- 해당 문자가 어디에 있는지 인덱스를 반환 하는 것\n",
    "- -1 : 없는 값"
   ]
  },
  {
   "cell_type": "code",
   "execution_count": 11,
   "id": "7401f43e",
   "metadata": {},
   "outputs": [],
   "source": [
    "df['document_non']= df['document'].str.find(sub='.')"
   ]
  },
  {
   "cell_type": "code",
   "execution_count": 12,
   "id": "ef4f2e0d",
   "metadata": {},
   "outputs": [],
   "source": [
    "df['findall_docu']=df['document'].str.findall(pat='[재미]')"
   ]
  },
  {
   "cell_type": "code",
   "execution_count": 13,
   "id": "b72ce0d3",
   "metadata": {},
   "outputs": [],
   "source": [
    "df['findall_num']=df['document'].str.findall(pat='[0-9]+')"
   ]
  },
  {
   "cell_type": "markdown",
   "id": "3d560a3b",
   "metadata": {},
   "source": [
    "## slice\n",
    "- 특정 인덱스의 값을 잘라낸 후 반환\n",
    "## slice_replace\n",
    "- 특정 인덱스의 값을 잘라낸 후 다른 값으로 반환"
   ]
  },
  {
   "cell_type": "code",
   "execution_count": 14,
   "id": "2b3a0c66",
   "metadata": {},
   "outputs": [
    {
     "data": {
      "text/plain": [
       "0                                          !.. 진짜 짜증나네요 목소리\n",
       "1                            !포스터보고 초딩영화줄....오버연기조차 가볍지 않구나\n",
       "2                                            !었다그래서보는것을추천한다\n",
       "3                                !이야기구먼 ..솔직히 재미는 없다..평점 조정\n",
       "4         !그의 익살스런 연기가 돋보였던 영화!스파이더맨에서 늙어보이기만 했던 커스틴 던스트...\n",
       "                                ...                        \n",
       "149995                                     !문제지.. 소는 뭔죄인가..\n",
       "149996                                           !너무 낮아서...\n",
       "149997                         !요? 한국인은 거들먹거리고 필리핀 혼혈은 착하다?\n",
       "149998                             !화의 최고봉.방황과 우울했던 날들의 자화상\n",
       "149999                                !화 최초로 수간하는 내용이 담긴 영화\n",
       "Name: document, Length: 150000, dtype: object"
      ]
     },
     "execution_count": 14,
     "metadata": {},
     "output_type": "execute_result"
    }
   ],
   "source": [
    "df['document'].str.slice_replace(start=0, stop=4, repl='!')\n",
    "# 전체 데이터의 앞 네글자 잘라낸 후 삭제한 후 !으로 대체"
   ]
  },
  {
   "cell_type": "code",
   "execution_count": 18,
   "id": "6c5a2eb6",
   "metadata": {},
   "outputs": [
    {
     "data": {
      "text/plain": [
       "0         아 더빙.\n",
       "1         흠...포\n",
       "2         너무재밓었\n",
       "3         교도소 이\n",
       "4         사이몬페그\n",
       "          ...  \n",
       "149995    인간이 문\n",
       "149996    평점이 너\n",
       "149997    이게 뭐요\n",
       "149998    청춘 영화\n",
       "149999    한국 영화\n",
       "Name: document, Length: 150000, dtype: object"
      ]
     },
     "execution_count": 18,
     "metadata": {},
     "output_type": "execute_result"
    }
   ],
   "source": [
    "# 전체 데이터의 앞 다섯글자 삭제\n",
    "df['document'].str.slice(start=0, stop=5)"
   ]
  },
  {
   "cell_type": "markdown",
   "id": "a1dbf966",
   "metadata": {},
   "source": [
    "## len()"
   ]
  },
  {
   "cell_type": "code",
   "execution_count": 17,
   "id": "c9ed7da9",
   "metadata": {},
   "outputs": [
    {
     "data": {
      "text/plain": [
       "0         19.0\n",
       "1         33.0\n",
       "2         17.0\n",
       "3         29.0\n",
       "4         61.0\n",
       "          ... \n",
       "149995    19.0\n",
       "149996    13.0\n",
       "149997    31.0\n",
       "149998    27.0\n",
       "149999    24.0\n",
       "Name: document, Length: 150000, dtype: float64"
      ]
     },
     "execution_count": 17,
     "metadata": {},
     "output_type": "execute_result"
    }
   ],
   "source": [
    "df['document'].str.len()\n",
    "# 전체 리뷰의 대한 길이"
   ]
  },
  {
   "cell_type": "code",
   "execution_count": 19,
   "id": "d9ef841b",
   "metadata": {},
   "outputs": [],
   "source": [
    "import matplotlib.pyplot as plt"
   ]
  },
  {
   "cell_type": "code",
   "execution_count": 20,
   "id": "3ac04200",
   "metadata": {},
   "outputs": [
    {
     "data": {
      "text/plain": [
       "(array([36766., 46098., 33551., 12015.,  6098.,  3990.,  3136.,  2231.,\n",
       "         2361.,  3749.]),\n",
       " array([  1. ,  15.5,  30. ,  44.5,  59. ,  73.5,  88. , 102.5, 117. ,\n",
       "        131.5, 146. ]),\n",
       " <BarContainer object of 10 artists>)"
      ]
     },
     "execution_count": 20,
     "metadata": {},
     "output_type": "execute_result"
    },
    {
     "data": {
      "image/png": "[encoded data removed]",
      "text/plain": [
       "<Figure size 640x480 with 1 Axes>"
      ]
     },
     "metadata": {},
     "output_type": "display_data"
    }
   ],
   "source": [
    "plt.hist(df['document_len'])\n",
    "# 전체 리뷰의 길이에 대한 분포"
   ]
  },
  {
   "cell_type": "code",
   "execution_count": 21,
   "id": "653e798d",
   "metadata": {},
   "outputs": [
    {
     "data": {
      "text/plain": [
       "label\n",
       "0    75173\n",
       "1    74827\n",
       "Name: count, dtype: int64"
      ]
     },
     "execution_count": 21,
     "metadata": {},
     "output_type": "execute_result"
    }
   ],
   "source": [
    "df['label'].value_counts()\n",
    "# 긍부정 컬럼 "
   ]
  }
 ],
 "metadata": {
  "kernelspec": {
   "display_name": "Python 3 (ipykernel)",
   "language": "python",
   "name": "python3"
  },
  "language_info": {
   "codemirror_mode": {
    "name": "ipython",
    "version": 3
   },
   "file_extension": ".py",
   "mimetype": "text/x-python",
   "name": "python",
   "nbconvert_exporter": "python",
   "pygments_lexer": "ipython3",
   "version": "3.8.18"
  }
 },
 "nbformat": 4,
 "nbformat_minor": 5
}
